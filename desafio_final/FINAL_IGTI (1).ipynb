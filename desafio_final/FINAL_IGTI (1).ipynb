{
  "nbformat": 4,
  "nbformat_minor": 0,
  "metadata": {
    "colab": {
      "name": "FINAL IGTI",
      "provenance": [],
      "collapsed_sections": []
    },
    "kernelspec": {
      "name": "python3",
      "display_name": "Python 3"
    }
  },
  "cells": [
    {
      "cell_type": "markdown",
      "metadata": {
        "id": "KIrPnDy5LvcK",
        "colab_type": "text"
      },
      "source": [
        "# DESAFIO FINAL BOOTCAMP MACHINE LEARNING IGTI\n",
        "## POR: Cairo Rocha"
      ]
    },
    {
      "cell_type": "markdown",
      "metadata": {
        "id": "p-3oSmmKMauG",
        "colab_type": "text"
      },
      "source": [
        "### 1. Carregar bibliotecas e dados "
      ]
    },
    {
      "cell_type": "code",
      "metadata": {
        "id": "JgbI311fFszk",
        "colab_type": "code",
        "colab": {}
      },
      "source": [
        "import pandas as pd\n",
        "from sklearn.preprocessing import StandardScaler\n",
        "from sklearn.decomposition import PCA\n",
        "from sklearn.tree import DecisionTreeClassifier\n",
        "from sklearn.linear_model import LogisticRegression\n",
        "from sklearn.cluster import KMeans\n",
        "from sklearn.model_selection import train_test_split\n",
        "from sklearn.metrics import classification_report\n",
        "from sklearn.metrics import confusion_matrix\n",
        "import seaborn as sns\n",
        "import numpy as np"
      ],
      "execution_count": 70,
      "outputs": []
    },
    {
      "cell_type": "code",
      "metadata": {
        "id": "sHk-pU-_CcCN",
        "colab_type": "code",
        "colab": {}
      },
      "source": [
        ""
      ],
      "execution_count": 70,
      "outputs": []
    },
    {
      "cell_type": "code",
      "metadata": {
        "id": "j9R46U1KHw-K",
        "colab_type": "code",
        "colab": {
          "base_uri": "https://localhost:8080/",
          "height": 204
        },
        "outputId": "0994533b-0d88-4d76-a2e0-0135cde1e0e2"
      },
      "source": [
        "train = pd.read_csv('/content/drive/My Drive/desafioigti/cars.csv')\n",
        "train.head()"
      ],
      "execution_count": 71,
      "outputs": [
        {
          "output_type": "execute_result",
          "data": {
            "text/html": [
              "<div>\n",
              "<style scoped>\n",
              "    .dataframe tbody tr th:only-of-type {\n",
              "        vertical-align: middle;\n",
              "    }\n",
              "\n",
              "    .dataframe tbody tr th {\n",
              "        vertical-align: top;\n",
              "    }\n",
              "\n",
              "    .dataframe thead th {\n",
              "        text-align: right;\n",
              "    }\n",
              "</style>\n",
              "<table border=\"1\" class=\"dataframe\">\n",
              "  <thead>\n",
              "    <tr style=\"text-align: right;\">\n",
              "      <th></th>\n",
              "      <th>mpg</th>\n",
              "      <th>cylinders</th>\n",
              "      <th>cubicinches</th>\n",
              "      <th>hp</th>\n",
              "      <th>weightlbs</th>\n",
              "      <th>time-to-60</th>\n",
              "      <th>year</th>\n",
              "      <th>brand</th>\n",
              "    </tr>\n",
              "  </thead>\n",
              "  <tbody>\n",
              "    <tr>\n",
              "      <th>0</th>\n",
              "      <td>14.0</td>\n",
              "      <td>8</td>\n",
              "      <td>350</td>\n",
              "      <td>165</td>\n",
              "      <td>4209</td>\n",
              "      <td>12</td>\n",
              "      <td>1972</td>\n",
              "      <td>US.</td>\n",
              "    </tr>\n",
              "    <tr>\n",
              "      <th>1</th>\n",
              "      <td>31.9</td>\n",
              "      <td>4</td>\n",
              "      <td>89</td>\n",
              "      <td>71</td>\n",
              "      <td>1925</td>\n",
              "      <td>14</td>\n",
              "      <td>1980</td>\n",
              "      <td>Europe.</td>\n",
              "    </tr>\n",
              "    <tr>\n",
              "      <th>2</th>\n",
              "      <td>17.0</td>\n",
              "      <td>8</td>\n",
              "      <td>302</td>\n",
              "      <td>140</td>\n",
              "      <td>3449</td>\n",
              "      <td>11</td>\n",
              "      <td>1971</td>\n",
              "      <td>US.</td>\n",
              "    </tr>\n",
              "    <tr>\n",
              "      <th>3</th>\n",
              "      <td>15.0</td>\n",
              "      <td>8</td>\n",
              "      <td>400</td>\n",
              "      <td>150</td>\n",
              "      <td>3761</td>\n",
              "      <td>10</td>\n",
              "      <td>1971</td>\n",
              "      <td>US.</td>\n",
              "    </tr>\n",
              "    <tr>\n",
              "      <th>4</th>\n",
              "      <td>30.5</td>\n",
              "      <td>4</td>\n",
              "      <td>98</td>\n",
              "      <td>63</td>\n",
              "      <td>2051</td>\n",
              "      <td>17</td>\n",
              "      <td>1978</td>\n",
              "      <td>US.</td>\n",
              "    </tr>\n",
              "  </tbody>\n",
              "</table>\n",
              "</div>"
            ],
            "text/plain": [
              "    mpg  cylinders cubicinches   hp weightlbs  time-to-60  year     brand\n",
              "0  14.0          8         350  165      4209          12  1972       US.\n",
              "1  31.9          4          89   71      1925          14  1980   Europe.\n",
              "2  17.0          8         302  140      3449          11  1971       US.\n",
              "3  15.0          8         400  150      3761          10  1971       US.\n",
              "4  30.5          4          98   63      2051          17  1978       US."
            ]
          },
          "metadata": {
            "tags": []
          },
          "execution_count": 71
        }
      ]
    },
    {
      "cell_type": "markdown",
      "metadata": {
        "id": "wKO-al5cMgGy",
        "colab_type": "text"
      },
      "source": [
        "### 2. Pré-processamento"
      ]
    },
    {
      "cell_type": "code",
      "metadata": {
        "id": "k66dZcnmH2gV",
        "colab_type": "code",
        "colab": {
          "base_uri": "https://localhost:8080/",
          "height": 170
        },
        "outputId": "30784da5-4dc7-4dff-d5a4-018236750e1f"
      },
      "source": [
        "train.isna().sum()"
      ],
      "execution_count": 72,
      "outputs": [
        {
          "output_type": "execute_result",
          "data": {
            "text/plain": [
              "mpg            0\n",
              "cylinders      0\n",
              "cubicinches    0\n",
              "hp             0\n",
              "weightlbs      0\n",
              "time-to-60     0\n",
              "year           0\n",
              "brand          0\n",
              "dtype: int64"
            ]
          },
          "metadata": {
            "tags": []
          },
          "execution_count": 72
        }
      ]
    },
    {
      "cell_type": "code",
      "metadata": {
        "id": "3-xfeFtlIGuS",
        "colab_type": "code",
        "colab": {
          "base_uri": "https://localhost:8080/",
          "height": 272
        },
        "outputId": "f8ec7001-5564-4e8f-dbe7-b979f6feb3f2"
      },
      "source": [
        "train.info()"
      ],
      "execution_count": 73,
      "outputs": [
        {
          "output_type": "stream",
          "text": [
            "<class 'pandas.core.frame.DataFrame'>\n",
            "RangeIndex: 261 entries, 0 to 260\n",
            "Data columns (total 8 columns):\n",
            " #   Column       Non-Null Count  Dtype  \n",
            "---  ------       --------------  -----  \n",
            " 0   mpg          261 non-null    float64\n",
            " 1   cylinders    261 non-null    int64  \n",
            " 2   cubicinches  261 non-null    object \n",
            " 3   hp           261 non-null    int64  \n",
            " 4   weightlbs    261 non-null    object \n",
            " 5   time-to-60   261 non-null    int64  \n",
            " 6   year         261 non-null    int64  \n",
            " 7   brand        261 non-null    object \n",
            "dtypes: float64(1), int64(4), object(3)\n",
            "memory usage: 16.4+ KB\n"
          ],
          "name": "stdout"
        }
      ]
    },
    {
      "cell_type": "code",
      "metadata": {
        "id": "PHGo2_g8IKII",
        "colab_type": "code",
        "colab": {
          "base_uri": "https://localhost:8080/",
          "height": 34
        },
        "outputId": "858bd417-adc9-49a0-96f0-56020e726177"
      },
      "source": [
        "train['brand'].unique()"
      ],
      "execution_count": 74,
      "outputs": [
        {
          "output_type": "execute_result",
          "data": {
            "text/plain": [
              "array([' US.', ' Europe.', ' Japan.'], dtype=object)"
            ]
          },
          "metadata": {
            "tags": []
          },
          "execution_count": 74
        }
      ]
    },
    {
      "cell_type": "code",
      "metadata": {
        "id": "6t6L3ScOI3F1",
        "colab_type": "code",
        "colab": {
          "base_uri": "https://localhost:8080/",
          "height": 153
        },
        "outputId": "67b01a40-b8a4-44d2-af38-cb5a35400879"
      },
      "source": [
        "train['cubicinches'].unique()"
      ],
      "execution_count": 75,
      "outputs": [
        {
          "output_type": "execute_result",
          "data": {
            "text/plain": [
              "array(['350', '89', '302', '400', '98', '351', '440', '183', '108', '97',\n",
              "       '225', '85', '304', '113', '107', '86', '121', '200', '91', '71',\n",
              "       '250', '120', '199', '231', '80', '232', ' ', '455', '318', '122',\n",
              "       '141', '340', '116', '156', '90', '360', '168', '305', '198',\n",
              "       '112', '119', '262', '134', '429', '115', '72', '105', '151', '88',\n",
              "       '307', '101', '79', '140', '114', '173', '144', '81', '267', '70',\n",
              "       '163', '171', '260', '131', '68', '96', '135', '390', '146', '258',\n",
              "       '83', '76', '383', '130', '110', '454'], dtype=object)"
            ]
          },
          "metadata": {
            "tags": []
          },
          "execution_count": 75
        }
      ]
    },
    {
      "cell_type": "code",
      "metadata": {
        "id": "ujRzVqgYJCMU",
        "colab_type": "code",
        "colab": {
          "base_uri": "https://localhost:8080/",
          "height": 34
        },
        "outputId": "f690f307-519b-49ab-efa4-28ed991a9e56"
      },
      "source": [
        "train[train['cubicinches']==' ']['cubicinches'].count()"
      ],
      "execution_count": 76,
      "outputs": [
        {
          "output_type": "execute_result",
          "data": {
            "text/plain": [
              "2"
            ]
          },
          "metadata": {
            "tags": []
          },
          "execution_count": 76
        }
      ]
    },
    {
      "cell_type": "code",
      "metadata": {
        "id": "c-0wA1q7I49z",
        "colab_type": "code",
        "colab": {
          "base_uri": "https://localhost:8080/",
          "height": 544
        },
        "outputId": "5c2bbc46-84a8-46e2-cc88-3a58be4bb520"
      },
      "source": [
        "train['weightlbs'].unique()"
      ],
      "execution_count": 77,
      "outputs": [
        {
          "output_type": "execute_result",
          "data": {
            "text/plain": [
              "array(['4209', '1925', '3449', '3761', '2051', '3900', '4363', '4312',\n",
              "       '3530', '2050', '2245', '2188', '4141', '3664', ' ', '4360',\n",
              "       '2020', '3433', '2278', '2430', '2019', '2600', '3012', '4054',\n",
              "       '1968', '1795', '1773', '4657', '3574', '2380', '2130', '3278',\n",
              "       '2506', '1985', '3415', '1835', '2720', '3955', '3265', '3897',\n",
              "       '4638', '3645', '3520', '3086', '2635', '3755', '2395', '1940',\n",
              "       '3060', '4464', '3190', '3609', '2158', '4380', '4278', '2930',\n",
              "       '2075', '1937', '3821', '2945', '2379', '2910', '2110', '4237',\n",
              "       '3525', '1950', '1965', '1825', '3880', '3102', '2640', '2288',\n",
              "       '2545', '2219', '3015', '3085', '2515', '2265', '2350', '4325',\n",
              "       '4952', '3425', '2694', '2220', '1613', '2774', '3465', '2125',\n",
              "       '1975', '2300', '4100', '3329', '2255', '3907', '4499', '3139',\n",
              "       '3830', '3781', '4997', '4906', '2126', '2200', '2335', '2065',\n",
              "       '2671', '3504', '2279', '2933', '4335', '3785', '2740', '3039',\n",
              "       '2045', '4341', '2202', '1963', '4668', '2745', '1834', '2565',\n",
              "       '4654', '2230', '2582', '1800', '2678', '4951', '3672', '4440',\n",
              "       '4190', '1955', '3169', '2979', '2700', '2171', '2665', '1760',\n",
              "       '3605', '2957', '3360', '2735', '3693', '3205', '2542', '2560',\n",
              "       '4425', '3158', '2464', '3302', '2124', '2135', '2634', '3410',\n",
              "       '3003', '4080', '2984', '2904', '2254', '3365', '3439', '2585',\n",
              "       '2807', '2290', '2830', '2575', '2226', '2189', '4385', '3570',\n",
              "       '2990', '2145', '4215', '3436', '3070', '3459', '3940', '4129',\n",
              "       '4735', '2620', '2670', '4422', '4082', '4077', '2144', '2490',\n",
              "       '1945', '2246', '2639', '3420', '3630', '2401', '3850', '3021',\n",
              "       '4098', '2900', '2815', '3445', '1755', '2074', '3233', '2615',\n",
              "       '2595', '4295', '3193', '2795', '4457', '3820', '4042', '2003',\n",
              "       '4615', '1649', '2587', '2790', '3563', '2625', '2592', '4498',\n",
              "       '3150', '4096', '2965', '1875', '4055', '3121', '4220', '2672',\n",
              "       '4354', '3399', '3735', '2085', '2155', '2525', '2120', '2660',\n",
              "       '2950', '3988', '2725', '2372', '3840', '2835', '3288', '3353'],\n",
              "      dtype=object)"
            ]
          },
          "metadata": {
            "tags": []
          },
          "execution_count": 77
        }
      ]
    },
    {
      "cell_type": "code",
      "metadata": {
        "id": "pBSB-v3QJNBf",
        "colab_type": "code",
        "colab": {
          "base_uri": "https://localhost:8080/",
          "height": 34
        },
        "outputId": "ef21e0ce-468d-42f5-ca11-161fbea88a69"
      },
      "source": [
        "train[train['weightlbs']==' ']['weightlbs'].count()"
      ],
      "execution_count": 78,
      "outputs": [
        {
          "output_type": "execute_result",
          "data": {
            "text/plain": [
              "3"
            ]
          },
          "metadata": {
            "tags": []
          },
          "execution_count": 78
        }
      ]
    },
    {
      "cell_type": "code",
      "metadata": {
        "id": "_sPwfwN0NeZN",
        "colab_type": "code",
        "colab": {
          "base_uri": "https://localhost:8080/",
          "height": 111
        },
        "outputId": "afc33579-65ee-46f2-9ff1-90593060b770"
      },
      "source": [
        "train[train['cubicinches']==' ']"
      ],
      "execution_count": 79,
      "outputs": [
        {
          "output_type": "execute_result",
          "data": {
            "text/html": [
              "<div>\n",
              "<style scoped>\n",
              "    .dataframe tbody tr th:only-of-type {\n",
              "        vertical-align: middle;\n",
              "    }\n",
              "\n",
              "    .dataframe tbody tr th {\n",
              "        vertical-align: top;\n",
              "    }\n",
              "\n",
              "    .dataframe thead th {\n",
              "        text-align: right;\n",
              "    }\n",
              "</style>\n",
              "<table border=\"1\" class=\"dataframe\">\n",
              "  <thead>\n",
              "    <tr style=\"text-align: right;\">\n",
              "      <th></th>\n",
              "      <th>mpg</th>\n",
              "      <th>cylinders</th>\n",
              "      <th>cubicinches</th>\n",
              "      <th>hp</th>\n",
              "      <th>weightlbs</th>\n",
              "      <th>time-to-60</th>\n",
              "      <th>year</th>\n",
              "      <th>brand</th>\n",
              "    </tr>\n",
              "  </thead>\n",
              "  <tbody>\n",
              "    <tr>\n",
              "      <th>40</th>\n",
              "      <td>16.0</td>\n",
              "      <td>6</td>\n",
              "      <td></td>\n",
              "      <td>105</td>\n",
              "      <td>3897</td>\n",
              "      <td>19</td>\n",
              "      <td>1976</td>\n",
              "      <td>US.</td>\n",
              "    </tr>\n",
              "    <tr>\n",
              "      <th>180</th>\n",
              "      <td>19.8</td>\n",
              "      <td>6</td>\n",
              "      <td></td>\n",
              "      <td>85</td>\n",
              "      <td>2990</td>\n",
              "      <td>18</td>\n",
              "      <td>1980</td>\n",
              "      <td>US.</td>\n",
              "    </tr>\n",
              "  </tbody>\n",
              "</table>\n",
              "</div>"
            ],
            "text/plain": [
              "      mpg  cylinders cubicinches   hp weightlbs  time-to-60  year brand\n",
              "40   16.0          6              105      3897          19  1976   US.\n",
              "180  19.8          6               85      2990          18  1980   US."
            ]
          },
          "metadata": {
            "tags": []
          },
          "execution_count": 79
        }
      ]
    },
    {
      "cell_type": "code",
      "metadata": {
        "id": "FdVdgf3bNBhu",
        "colab_type": "code",
        "colab": {
          "base_uri": "https://localhost:8080/",
          "height": 34
        },
        "outputId": "3d4afdaf-dc14-4ef6-a4b5-ac21cfdf8e48"
      },
      "source": [
        "train['cubicinches'] = pd.to_numeric(train['cubicinches'], errors='coerce')\n",
        "train['weightlbs'] = pd.to_numeric(train['weightlbs'], errors='coerce')\n",
        "train.isna().sum().sum()"
      ],
      "execution_count": 80,
      "outputs": [
        {
          "output_type": "execute_result",
          "data": {
            "text/plain": [
              "5"
            ]
          },
          "metadata": {
            "tags": []
          },
          "execution_count": 80
        }
      ]
    },
    {
      "cell_type": "code",
      "metadata": {
        "id": "CMFWotKmNjYC",
        "colab_type": "code",
        "colab": {
          "base_uri": "https://localhost:8080/",
          "height": 34
        },
        "outputId": "fbf64077-563b-4603-f87b-ef9da730bd14"
      },
      "source": [
        "train['cubicinches'].fillna(train['cubicinches'].mean(), inplace=True)\n",
        "train['weightlbs'].fillna(train['weightlbs'].mean(), inplace=True)\n",
        "train['weightlbs'].isna().sum()\n"
      ],
      "execution_count": 81,
      "outputs": [
        {
          "output_type": "execute_result",
          "data": {
            "text/plain": [
              "0"
            ]
          },
          "metadata": {
            "tags": []
          },
          "execution_count": 81
        }
      ]
    },
    {
      "cell_type": "code",
      "metadata": {
        "id": "So8b2TSRIdqx",
        "colab_type": "code",
        "colab": {}
      },
      "source": [
        "train['brand'] = train['brand'].replace({' US.':0, ' Europe.':1, ' Japan.':2})"
      ],
      "execution_count": 82,
      "outputs": []
    },
    {
      "cell_type": "code",
      "metadata": {
        "id": "5gIMBd5MSmt4",
        "colab_type": "code",
        "colab": {}
      },
      "source": [
        "train = train[['mpg', 'cylinders', 'cubicinches', 'hp', 'weightlbs', 'time-to-60', 'year']]"
      ],
      "execution_count": 83,
      "outputs": []
    },
    {
      "cell_type": "code",
      "metadata": {
        "id": "oRFsh8ZwObmp",
        "colab_type": "code",
        "colab": {
          "base_uri": "https://localhost:8080/",
          "height": 34
        },
        "outputId": "ddf625ed-1e7b-40e7-f1f4-aee85d26b80e"
      },
      "source": [
        "train['mpg'].median()"
      ],
      "execution_count": 84,
      "outputs": [
        {
          "output_type": "execute_result",
          "data": {
            "text/plain": [
              "22.0"
            ]
          },
          "metadata": {
            "tags": []
          },
          "execution_count": 84
        }
      ]
    },
    {
      "cell_type": "code",
      "metadata": {
        "id": "Pm5qnHX4Onh1",
        "colab_type": "code",
        "colab": {
          "base_uri": "https://localhost:8080/",
          "height": 170
        },
        "outputId": "321b9fb5-93d4-4a55-812e-a42b3839f86e"
      },
      "source": [
        "train['time-to-60'].describe()"
      ],
      "execution_count": 85,
      "outputs": [
        {
          "output_type": "execute_result",
          "data": {
            "text/plain": [
              "count    261.000000\n",
              "mean      15.547893\n",
              "std        2.910625\n",
              "min        8.000000\n",
              "25%       14.000000\n",
              "50%       16.000000\n",
              "75%       17.000000\n",
              "max       25.000000\n",
              "Name: time-to-60, dtype: float64"
            ]
          },
          "metadata": {
            "tags": []
          },
          "execution_count": 85
        }
      ]
    },
    {
      "cell_type": "code",
      "metadata": {
        "id": "uTG3K9rIPux9",
        "colab_type": "code",
        "colab": {
          "base_uri": "https://localhost:8080/",
          "height": 296
        },
        "outputId": "ccacf7a9-0e08-4878-dc18-cd0d2ac41295"
      },
      "source": [
        "sns.boxplot(train['hp']) #ERRADO: Cada um dos quartis possui a mesma quantidade de valores para a variável “hp”."
      ],
      "execution_count": 86,
      "outputs": [
        {
          "output_type": "execute_result",
          "data": {
            "text/plain": [
              "<matplotlib.axes._subplots.AxesSubplot at 0x7fc84b2feac8>"
            ]
          },
          "metadata": {
            "tags": []
          },
          "execution_count": 86
        },
        {
          "output_type": "display_data",
          "data": {
            "image/png": "[encoded data removed]",
            "text/plain": [
              "<Figure size 432x288 with 1 Axes>"
            ]
          },
          "metadata": {
            "tags": [],
            "needs_background": "light"
          }
        }
      ]
    },
    {
      "cell_type": "code",
      "metadata": {
        "id": "U_DvBL4SO6qI",
        "colab_type": "code",
        "colab": {
          "base_uri": "https://localhost:8080/",
          "height": 111
        },
        "outputId": "7741fc91-fe4c-497b-b09b-1142dd5713fc"
      },
      "source": [
        "train[['cylinders','mpg']].corr()"
      ],
      "execution_count": 87,
      "outputs": [
        {
          "output_type": "execute_result",
          "data": {
            "text/html": [
              "<div>\n",
              "<style scoped>\n",
              "    .dataframe tbody tr th:only-of-type {\n",
              "        vertical-align: middle;\n",
              "    }\n",
              "\n",
              "    .dataframe tbody tr th {\n",
              "        vertical-align: top;\n",
              "    }\n",
              "\n",
              "    .dataframe thead th {\n",
              "        text-align: right;\n",
              "    }\n",
              "</style>\n",
              "<table border=\"1\" class=\"dataframe\">\n",
              "  <thead>\n",
              "    <tr style=\"text-align: right;\">\n",
              "      <th></th>\n",
              "      <th>cylinders</th>\n",
              "      <th>mpg</th>\n",
              "    </tr>\n",
              "  </thead>\n",
              "  <tbody>\n",
              "    <tr>\n",
              "      <th>cylinders</th>\n",
              "      <td>1.00000</td>\n",
              "      <td>-0.77671</td>\n",
              "    </tr>\n",
              "    <tr>\n",
              "      <th>mpg</th>\n",
              "      <td>-0.77671</td>\n",
              "      <td>1.00000</td>\n",
              "    </tr>\n",
              "  </tbody>\n",
              "</table>\n",
              "</div>"
            ],
            "text/plain": [
              "           cylinders      mpg\n",
              "cylinders    1.00000 -0.77671\n",
              "mpg         -0.77671  1.00000"
            ]
          },
          "metadata": {
            "tags": []
          },
          "execution_count": 87
        }
      ]
    },
    {
      "cell_type": "code",
      "metadata": {
        "id": "9qBSH6TISCaJ",
        "colab_type": "code",
        "colab": {}
      },
      "source": [
        "Y = np.where(train['mpg']>25, 1, 0) #Na questão pede pra fazer depois do processamento, mas não existe mais valor > 25"
      ],
      "execution_count": 88,
      "outputs": []
    },
    {
      "cell_type": "code",
      "metadata": {
        "id": "JqWl-3NRIz3l",
        "colab_type": "code",
        "colab": {}
      },
      "source": [
        "cols = train.columns\n",
        "ss = StandardScaler()\n",
        "X = ss.fit_transform(train)\n",
        "X = pd.DataFrame(X, columns=cols)"
      ],
      "execution_count": 89,
      "outputs": []
    },
    {
      "cell_type": "code",
      "metadata": {
        "id": "VZrnKThXQFcC",
        "colab_type": "code",
        "colab": {
          "base_uri": "https://localhost:8080/",
          "height": 34
        },
        "outputId": "4bedc30c-1ff2-4754-a00d-dcb7441b8789"
      },
      "source": [
        "X['hp'].max() # NÃO EXISTE RESPOSTA"
      ],
      "execution_count": 90,
      "outputs": [
        {
          "output_type": "execute_result",
          "data": {
            "text/plain": [
              "3.05870398977614"
            ]
          },
          "metadata": {
            "tags": []
          },
          "execution_count": 90
        }
      ]
    },
    {
      "cell_type": "code",
      "metadata": {
        "id": "YXFj12H6REDb",
        "colab_type": "code",
        "colab": {
          "base_uri": "https://localhost:8080/",
          "height": 297
        },
        "outputId": "15c9d5fc-9f4c-4890-89e8-a084a9cb70f2"
      },
      "source": [
        "X.describe()"
      ],
      "execution_count": 91,
      "outputs": [
        {
          "output_type": "execute_result",
          "data": {
            "text/html": [
              "<div>\n",
              "<style scoped>\n",
              "    .dataframe tbody tr th:only-of-type {\n",
              "        vertical-align: middle;\n",
              "    }\n",
              "\n",
              "    .dataframe tbody tr th {\n",
              "        vertical-align: top;\n",
              "    }\n",
              "\n",
              "    .dataframe thead th {\n",
              "        text-align: right;\n",
              "    }\n",
              "</style>\n",
              "<table border=\"1\" class=\"dataframe\">\n",
              "  <thead>\n",
              "    <tr style=\"text-align: right;\">\n",
              "      <th></th>\n",
              "      <th>mpg</th>\n",
              "      <th>cylinders</th>\n",
              "      <th>cubicinches</th>\n",
              "      <th>hp</th>\n",
              "      <th>weightlbs</th>\n",
              "      <th>time-to-60</th>\n",
              "      <th>year</th>\n",
              "    </tr>\n",
              "  </thead>\n",
              "  <tbody>\n",
              "    <tr>\n",
              "      <th>count</th>\n",
              "      <td>2.610000e+02</td>\n",
              "      <td>2.610000e+02</td>\n",
              "      <td>2.610000e+02</td>\n",
              "      <td>2.610000e+02</td>\n",
              "      <td>2.610000e+02</td>\n",
              "      <td>2.610000e+02</td>\n",
              "      <td>2.610000e+02</td>\n",
              "    </tr>\n",
              "    <tr>\n",
              "      <th>mean</th>\n",
              "      <td>3.143505e-16</td>\n",
              "      <td>2.124737e-16</td>\n",
              "      <td>-1.203805e-16</td>\n",
              "      <td>9.831429e-17</td>\n",
              "      <td>-1.648320e-16</td>\n",
              "      <td>-2.043916e-16</td>\n",
              "      <td>-2.605329e-15</td>\n",
              "    </tr>\n",
              "    <tr>\n",
              "      <th>std</th>\n",
              "      <td>1.001921e+00</td>\n",
              "      <td>1.001921e+00</td>\n",
              "      <td>1.001921e+00</td>\n",
              "      <td>1.001921e+00</td>\n",
              "      <td>1.001921e+00</td>\n",
              "      <td>1.001921e+00</td>\n",
              "      <td>1.001921e+00</td>\n",
              "    </tr>\n",
              "    <tr>\n",
              "      <th>min</th>\n",
              "      <td>-1.683385e+00</td>\n",
              "      <td>-1.497144e+00</td>\n",
              "      <td>-1.223609e+00</td>\n",
              "      <td>-1.493239e+00</td>\n",
              "      <td>-1.648240e+00</td>\n",
              "      <td>-2.598203e+00</td>\n",
              "      <td>-1.602966e+00</td>\n",
              "    </tr>\n",
              "    <tr>\n",
              "      <th>25%</th>\n",
              "      <td>-7.997404e-01</td>\n",
              "      <td>-9.191048e-01</td>\n",
              "      <td>-9.198217e-01</td>\n",
              "      <td>-7.758132e-01</td>\n",
              "      <td>-8.918710e-01</td>\n",
              "      <td>-5.328295e-01</td>\n",
              "      <td>-7.766842e-01</td>\n",
              "    </tr>\n",
              "    <tr>\n",
              "      <th>50%</th>\n",
              "      <td>-1.466117e-01</td>\n",
              "      <td>2.369740e-01</td>\n",
              "      <td>-4.135093e-01</td>\n",
              "      <td>-2.810368e-01</td>\n",
              "      <td>-1.248816e-01</td>\n",
              "      <td>1.556284e-01</td>\n",
              "      <td>4.959804e-02</td>\n",
              "    </tr>\n",
              "    <tr>\n",
              "      <th>75%</th>\n",
              "      <td>7.242265e-01</td>\n",
              "      <td>1.393053e+00</td>\n",
              "      <td>9.305202e-01</td>\n",
              "      <td>7.827325e-01</td>\n",
              "      <td>7.719060e-01</td>\n",
              "      <td>4.998573e-01</td>\n",
              "      <td>8.758803e-01</td>\n",
              "    </tr>\n",
              "    <tr>\n",
              "      <th>max</th>\n",
              "      <td>3.003774e+00</td>\n",
              "      <td>1.393053e+00</td>\n",
              "      <td>2.338990e+00</td>\n",
              "      <td>3.058704e+00</td>\n",
              "      <td>2.344824e+00</td>\n",
              "      <td>3.253689e+00</td>\n",
              "      <td>1.702163e+00</td>\n",
              "    </tr>\n",
              "  </tbody>\n",
              "</table>\n",
              "</div>"
            ],
            "text/plain": [
              "                mpg     cylinders  ...    time-to-60          year\n",
              "count  2.610000e+02  2.610000e+02  ...  2.610000e+02  2.610000e+02\n",
              "mean   3.143505e-16  2.124737e-16  ... -2.043916e-16 -2.605329e-15\n",
              "std    1.001921e+00  1.001921e+00  ...  1.001921e+00  1.001921e+00\n",
              "min   -1.683385e+00 -1.497144e+00  ... -2.598203e+00 -1.602966e+00\n",
              "25%   -7.997404e-01 -9.191048e-01  ... -5.328295e-01 -7.766842e-01\n",
              "50%   -1.466117e-01  2.369740e-01  ...  1.556284e-01  4.959804e-02\n",
              "75%    7.242265e-01  1.393053e+00  ...  4.998573e-01  8.758803e-01\n",
              "max    3.003774e+00  1.393053e+00  ...  3.253689e+00  1.702163e+00\n",
              "\n",
              "[8 rows x 7 columns]"
            ]
          },
          "metadata": {
            "tags": []
          },
          "execution_count": 91
        }
      ]
    },
    {
      "cell_type": "markdown",
      "metadata": {
        "id": "cCSAS5KKMl93",
        "colab_type": "text"
      },
      "source": [
        "3. Aplicar os algoritmos "
      ]
    },
    {
      "cell_type": "code",
      "metadata": {
        "id": "XdhmGovkJ9Hw",
        "colab_type": "code",
        "colab": {}
      },
      "source": [
        "pca =  PCA(n_components=7)\n",
        "X = pca.fit_transform(X)\n",
        "X = pd.DataFrame(X, columns=cols)"
      ],
      "execution_count": 92,
      "outputs": []
    },
    {
      "cell_type": "code",
      "metadata": {
        "id": "YNkaJwhNRZ8g",
        "colab_type": "code",
        "colab": {
          "base_uri": "https://localhost:8080/",
          "height": 34
        },
        "outputId": "b58b3261-ea90-428e-84b2-65d58e1e530f"
      },
      "source": [
        "pca.explained_variance_ratio_[0]"
      ],
      "execution_count": 105,
      "outputs": [
        {
          "output_type": "execute_result",
          "data": {
            "text/plain": [
              "0.7237134885896341"
            ]
          },
          "metadata": {
            "tags": []
          },
          "execution_count": 105
        }
      ]
    },
    {
      "cell_type": "code",
      "metadata": {
        "id": "phhX2JhCJxrE",
        "colab_type": "code",
        "colab": {}
      },
      "source": [
        "km = KMeans(n_clusters=3,random_state=42)\n",
        "clusters = km.fit_predict(X)"
      ],
      "execution_count": 94,
      "outputs": []
    },
    {
      "cell_type": "code",
      "metadata": {
        "id": "fBfWN0sCRwO9",
        "colab_type": "code",
        "colab": {
          "base_uri": "https://localhost:8080/",
          "height": 170
        },
        "outputId": "0ec89ee2-00b3-4496-829e-091181630969"
      },
      "source": [
        "km.cluster_centers_"
      ],
      "execution_count": 95,
      "outputs": [
        {
          "output_type": "execute_result",
          "data": {
            "text/plain": [
              "array([[-2.21903474e-01,  3.35880334e-01,  2.83961966e-01,\n",
              "        -2.67686215e-01, -5.45225710e-02, -4.15058549e-03,\n",
              "         6.49104031e-03],\n",
              "       [-2.21966813e+00, -1.65114484e-01, -1.97903173e-01,\n",
              "         1.41526756e-01,  5.21847434e-02, -6.14922939e-03,\n",
              "        -2.61748230e-02],\n",
              "       [ 3.08082252e+00, -1.98389792e-01, -9.38631667e-02,\n",
              "         1.45525382e-01,  5.33778892e-05,  1.28250676e-02,\n",
              "         2.52789802e-02]])"
            ]
          },
          "metadata": {
            "tags": []
          },
          "execution_count": 95
        }
      ]
    },
    {
      "cell_type": "code",
      "metadata": {
        "id": "kGz0tmGgRmLK",
        "colab_type": "code",
        "colab": {
          "base_uri": "https://localhost:8080/",
          "height": 85
        },
        "outputId": "5cbcb329-028d-4d13-ec23-b9b90398ce51"
      },
      "source": [
        "pd.Series(clusters).value_counts()"
      ],
      "execution_count": 96,
      "outputs": [
        {
          "output_type": "execute_result",
          "data": {
            "text/plain": [
              "1    95\n",
              "0    91\n",
              "2    75\n",
              "dtype: int64"
            ]
          },
          "metadata": {
            "tags": []
          },
          "execution_count": 96
        }
      ]
    },
    {
      "cell_type": "code",
      "metadata": {
        "id": "BF22F_kTKt7B",
        "colab_type": "code",
        "colab": {}
      },
      "source": [
        "X_train, x_test, y_train, y_test = train_test_split(X, Y, test_size=0.30,random_state=42)"
      ],
      "execution_count": 97,
      "outputs": []
    },
    {
      "cell_type": "code",
      "metadata": {
        "id": "r9XTfKF6K5hr",
        "colab_type": "code",
        "colab": {
          "base_uri": "https://localhost:8080/",
          "height": 102
        },
        "outputId": "3b095b39-4adb-4e60-f283-cb424529ae7a"
      },
      "source": [
        "model1 = LogisticRegression(random_state=42)\n",
        "model1.fit(X_train, y_train)"
      ],
      "execution_count": 98,
      "outputs": [
        {
          "output_type": "execute_result",
          "data": {
            "text/plain": [
              "LogisticRegression(C=1.0, class_weight=None, dual=False, fit_intercept=True,\n",
              "                   intercept_scaling=1, l1_ratio=None, max_iter=100,\n",
              "                   multi_class='auto', n_jobs=None, penalty='l2',\n",
              "                   random_state=42, solver='lbfgs', tol=0.0001, verbose=0,\n",
              "                   warm_start=False)"
            ]
          },
          "metadata": {
            "tags": []
          },
          "execution_count": 98
        }
      ]
    },
    {
      "cell_type": "code",
      "metadata": {
        "id": "28y4L_PzLOsv",
        "colab_type": "code",
        "colab": {
          "base_uri": "https://localhost:8080/",
          "height": 170
        },
        "outputId": "30dd8de3-571d-42a7-af30-df0447438c13"
      },
      "source": [
        "y_pred1 = model1.predict(x_test)\n",
        "print(classification_report(y_test, y_pred1))"
      ],
      "execution_count": 99,
      "outputs": [
        {
          "output_type": "stream",
          "text": [
            "              precision    recall  f1-score   support\n",
            "\n",
            "           0       0.98      0.98      0.98        41\n",
            "           1       0.97      0.97      0.97        38\n",
            "\n",
            "    accuracy                           0.97        79\n",
            "   macro avg       0.97      0.97      0.97        79\n",
            "weighted avg       0.97      0.97      0.97        79\n",
            "\n"
          ],
          "name": "stdout"
        }
      ]
    },
    {
      "cell_type": "code",
      "metadata": {
        "id": "wZZcpv5oL7J0",
        "colab_type": "code",
        "colab": {
          "base_uri": "https://localhost:8080/",
          "height": 286
        },
        "outputId": "d51d1338-3da7-4ec0-e65f-ba79a680ed77"
      },
      "source": [
        "sns.heatmap(confusion_matrix(y_test, y_pred1), annot=True)"
      ],
      "execution_count": 100,
      "outputs": [
        {
          "output_type": "execute_result",
          "data": {
            "text/plain": [
              "<matplotlib.axes._subplots.AxesSubplot at 0x7fc84b1dd1d0>"
            ]
          },
          "metadata": {
            "tags": []
          },
          "execution_count": 100
        },
        {
          "output_type": "display_data",
          "data": {
            "image/png": "[encoded data removed]",
            "text/plain": [
              "<Figure size 432x288 with 2 Axes>"
            ]
          },
          "metadata": {
            "tags": [],
            "needs_background": "light"
          }
        }
      ]
    },
    {
      "cell_type": "code",
      "metadata": {
        "id": "XdhBll80LZu3",
        "colab_type": "code",
        "colab": {
          "base_uri": "https://localhost:8080/",
          "height": 119
        },
        "outputId": "21ff4d4b-d6a9-4e2a-b492-2c3bbc95a5bd"
      },
      "source": [
        "model2 = DecisionTreeClassifier(random_state=42)\n",
        "model2.fit(X_train, y_train)"
      ],
      "execution_count": 101,
      "outputs": [
        {
          "output_type": "execute_result",
          "data": {
            "text/plain": [
              "DecisionTreeClassifier(ccp_alpha=0.0, class_weight=None, criterion='gini',\n",
              "                       max_depth=None, max_features=None, max_leaf_nodes=None,\n",
              "                       min_impurity_decrease=0.0, min_impurity_split=None,\n",
              "                       min_samples_leaf=1, min_samples_split=2,\n",
              "                       min_weight_fraction_leaf=0.0, presort='deprecated',\n",
              "                       random_state=42, splitter='best')"
            ]
          },
          "metadata": {
            "tags": []
          },
          "execution_count": 101
        }
      ]
    },
    {
      "cell_type": "code",
      "metadata": {
        "id": "KGZbyJCVLnxN",
        "colab_type": "code",
        "colab": {
          "base_uri": "https://localhost:8080/",
          "height": 170
        },
        "outputId": "2a46529a-9b17-4e8e-c942-d855abb9e253"
      },
      "source": [
        "y_pred2 = model2.predict(x_test)\n",
        "print(classification_report(y_test, y_pred2))"
      ],
      "execution_count": 102,
      "outputs": [
        {
          "output_type": "stream",
          "text": [
            "              precision    recall  f1-score   support\n",
            "\n",
            "           0       0.95      0.95      0.95        41\n",
            "           1       0.95      0.95      0.95        38\n",
            "\n",
            "    accuracy                           0.95        79\n",
            "   macro avg       0.95      0.95      0.95        79\n",
            "weighted avg       0.95      0.95      0.95        79\n",
            "\n"
          ],
          "name": "stdout"
        }
      ]
    },
    {
      "cell_type": "code",
      "metadata": {
        "id": "OG2oFhenMMxB",
        "colab_type": "code",
        "colab": {
          "base_uri": "https://localhost:8080/",
          "height": 282
        },
        "outputId": "27d39116-f3da-4989-8545-d0ecbf41432a"
      },
      "source": [
        "sns.heatmap(confusion_matrix(y_test, y_pred2), annot=True)"
      ],
      "execution_count": 103,
      "outputs": [
        {
          "output_type": "execute_result",
          "data": {
            "text/plain": [
              "<matplotlib.axes._subplots.AxesSubplot at 0x7fc84b1628d0>"
            ]
          },
          "metadata": {
            "tags": []
          },
          "execution_count": 103
        },
        {
          "output_type": "display_data",
          "data": {
            "image/png": "[encoded data removed]",
            "text/plain": [
              "<Figure size 432x288 with 2 Axes>"
            ]
          },
          "metadata": {
            "tags": [],
            "needs_background": "light"
          }
        }
      ]
    },
    {
      "cell_type": "markdown",
      "metadata": {
        "id": "1wnd1vZSLrft",
        "colab_type": "text"
      },
      "source": [
        "# Fim (The End)"
      ]
    }
  ]
}